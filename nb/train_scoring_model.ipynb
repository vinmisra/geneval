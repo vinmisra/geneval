{
 "cells": [
  {
   "attachments": {},
   "cell_type": "markdown",
   "metadata": {},
   "source": [
    "Simple example workflow of training an evaluation model on images.\n",
    "\n",
    "Example provided here is of binary absolute quality scores, but it's straightforward to apply this to pairwise scoring (which I highly recommend, both for consistency/quality of data and speed of labeling)."
   ]
  },
  {
   "cell_type": "code",
   "execution_count": null,
   "metadata": {
    "vscode": {
     "languageId": "python"
    }
   },
   "outputs": [],
   "source": [
    "import os, pickle\n",
    "import numpy as np\n",
    "import pandas as pd\n",
    "from importlib import reload\n",
    "%load_ext autoreload\n",
    "%autoreload 1\n",
    "\n",
    "import gspread\n",
    "gc = gspread.oauth(flow=gspread.auth.console_flow)\n",
    "\n",
    "import sdtools.sdexp as sdexp\n",
    "import sdtools.cfg as cfg"
   ]
  },
  {
   "cell_type": "code",
   "execution_count": null,
   "metadata": {
    "vscode": {
     "languageId": "python"
    }
   },
   "outputs": [],
   "source": [
    "import clip\n",
    "model, preprocess = clip.load(\"ViT-B/32\", device=\"cuda\")"
   ]
  },
  {
   "cell_type": "code",
   "execution_count": null,
   "metadata": {
    "vscode": {
     "languageId": "python"
    }
   },
   "outputs": [],
   "source": [
    "ROOT_DIR = cfg.data_dir\n",
    "N_EXAMPLES_PER_MODEL = 50\n",
    "SHEET_URL = <INSERT SHEET URL>\n",
    "WS_LABELS_NAME = 'labels'"
   ]
  },
  {
   "attachments": {},
   "cell_type": "markdown",
   "metadata": {},
   "source": [
    "# Generate, display, label, and store images + labels"
   ]
  },
  {
   "cell_type": "code",
   "execution_count": null,
   "metadata": {
    "vscode": {
     "languageId": "python"
    }
   },
   "outputs": [],
   "source": [
    "# generate images for labeling\n",
    "spec_base = {\n",
    "    \"exp\":None,\n",
    "    \"entities\":[\n",
    "        {\n",
    "            \"finetune_path\":None,\n",
    "            \"class_prompt\":\"a cell phone photo of a kid\",\n",
    "            \"finetune_prompt\":\"a cell phone photo of alskj kid\",\n",
    "            \"n_class_img\":200\n",
    "        }\n",
    "    ],\n",
    "    \"lr\":1e-6,\n",
    "    \"n_iters\":[1500,2800],\n",
    "    \"dir_model\":None,\n",
    "    \"dir_parent_classimg\":os.path.join(ROOT_DIR,\"class_sets\"),\n",
    "    \"test_prompts\":\n",
    "        [\n",
    "            \"alskj kid sits in a cornfield, smiling. Watercolor.\"\n",
    "        ]\n",
    "}\n",
    "\n",
    "'''\n",
    "Run through sample models to generate images for labeling:\n",
    "- A6 2800\n",
    "- A5 2800\n",
    "- A2 2800\n",
    "- A3 1500\n",
    "'''\n",
    "lst_img = []\n",
    "for exp, iters, finetune_path in [\n",
    "    (\"A6\", 2800, 'finetune_sets/entityboy_ablationC'),\n",
    "    (\"A5\", 2800, 'finetune_sets/entityboy_ablationB'),\n",
    "    (\"A2\", 2800, 'finetune_sets/entityboy_small'),\n",
    "    (\"A3\", 1500, 'finetune_sets/entityboy_large')\n",
    "]:\n",
    "    spec = spec_base.copy()\n",
    "    spec['exp'] = exp\n",
    "    spec['dir_model'] = os.path.join(ROOT_DIR, f\"modelexp/{exp}\")\n",
    "    spec['entities'][0]['finetune_path'] = os.path.join(ROOT_DIR, finetune_path)\n",
    "    lst_img.extend(sdexp.sample_exp(spec, iters=iters, n_samples=N_EXAMPLES_PER_MODEL))\n",
    "\n",
    "np.random.shuffle(lst_img)\n",
    "\n",
    "# pickle image data to disk (inside ROOT_DIR)\n",
    "with open(cfg.path_labeled_img, 'wb') as f:\n",
    "    pickle.dump(lst_img, f)"
   ]
  },
  {
   "cell_type": "code",
   "execution_count": null,
   "metadata": {
    "vscode": {
     "languageId": "python"
    }
   },
   "outputs": [],
   "source": [
    "# load and display images for labeling\n",
    "with open(cfg.path_labeled_img, 'rb') as f:\n",
    "    lst_img = pickle.load(f)\n",
    "\n",
    "#display each image in succession, alongside its numerical index in the list, for purposes of labeling.\n",
    "for i, img in enumerate(lst_img):\n",
    "    print(i)\n",
    "    display(img)"
   ]
  },
  {
   "cell_type": "code",
   "execution_count": null,
   "metadata": {
    "vscode": {
     "languageId": "python"
    }
   },
   "outputs": [],
   "source": [
    "#open SHEET_URL and WS_LABELS_NAME with gc and read B1:B100 as the instance 0/1 labels, and C1:C100 as the prompt 0/1 labels. output a tuple of lists of integers.\n",
    "ws = gc.open_by_url(SHEET_URL).worksheet(WS_LABELS_NAME)\n",
    "lst_instance_labels = ws.range(f'B1:B{len(lst_img)}')\n",
    "lst_prompt_labels = ws.range(f'C1:C{len(lst_img)}')\n",
    "lst_instance_labels = [int(cell.value) for cell in lst_instance_labels]\n",
    "lst_prompt_labels = [int(cell.value) for cell in lst_prompt_labels]\n",
    "\n",
    "# pickle labels to disk (inside ROOT_DIR)\n",
    "with open(cfg.path_labeled_labels, 'wb') as f:\n",
    "    pickle.dump((lst_instance_labels, lst_prompt_labels), f)\n"
   ]
  },
  {
   "attachments": {},
   "cell_type": "markdown",
   "metadata": {},
   "source": [
    "# Train + store score classifier"
   ]
  },
  {
   "cell_type": "code",
   "execution_count": null,
   "metadata": {
    "vscode": {
     "languageId": "python"
    }
   },
   "outputs": [],
   "source": [
    "lst_img = pickle.load(open(cfg.path_labeled_img, 'rb'))\n",
    "lst_instance_labels, lst_prompt_labels = pickle.load(open(cfg.path_labeled_labels, 'rb'))\n",
    "clf_quality = sdexp.CLFQuality(lst_img, lst_instance_labels, lst_prompt_labels, path_cache=cfg.path_clf_quality, force_retrain=True)"
   ]
  }
 ],
 "metadata": {
  "kernelspec": {
   "display_name": "Python 3 (ipykernel)",
   "language": "python",
   "name": "python3"
  },
  "orig_nbformat": 4
 },
 "nbformat": 4,
 "nbformat_minor": 2
}
