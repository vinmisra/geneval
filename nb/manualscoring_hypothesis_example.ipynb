{
 "cells": [
  {
   "attachments": {},
   "cell_type": "markdown",
   "metadata": {},
   "source": [
    "A few examples of how one can do \"manual evaluation\" of generative hypotheses. Not recommended."
   ]
  },
  {
   "cell_type": "code",
   "execution_count": null,
   "metadata": {},
   "outputs": [],
   "source": [
    "import os\n",
    "import copy\n",
    "import sdtools.sdexp as sdexp\n",
    "import sdtools.cfg as cfg"
   ]
  },
  {
   "cell_type": "code",
   "execution_count": null,
   "metadata": {},
   "outputs": [],
   "source": [
    "ROOT_DIR = cfg.data_dir"
   ]
  },
  {
   "attachments": {},
   "cell_type": "markdown",
   "metadata": {},
   "source": [
    "# Single image examples"
   ]
  },
  {
   "cell_type": "markdown",
   "metadata": {},
   "source": [
    "### Steps"
   ]
  },
  {
   "cell_type": "code",
   "execution_count": null,
   "metadata": {},
   "outputs": [],
   "source": [
    "#define specs for experiment variants\n",
    "spec = {\n",
    "    \"exp\":\"A1\",\n",
    "    \"entities\":[\n",
    "        {\n",
    "            \"finetune_path\":os.path.join(ROOT_DIR,\"finetune_sets/entitygirl\"),\n",
    "            \"class_prompt\":\"a cell phone photo of a girl\",\n",
    "            \"finetune_prompt\":\"a cell phone photo of qaeks girl\",\n",
    "            \"n_class_img\":200\n",
    "        }\n",
    "    ],\n",
    "    \"lr\":2e-6,\n",
    "    \"n_iters\":[200, 400, 800, 1200, 1600, 2400],\n",
    "    \"dir_model\":os.path.join(ROOT_DIR,\"modelexp/A1\"),\n",
    "    \"dir_parent_classimg\":os.path.join(ROOT_DIR,\"class_sets\"),\n",
    "    \"test_prompts\":\n",
    "        [\n",
    "            \"qaeks girl sits in a cornfield, smiling. Watercolor.\",\n",
    "            \"qaeks girl licks an ice cream cone on a bench. Pencil drawing.\",\n",
    "            \"qaeks girl hides in the corner, scared.\",\n",
    "            \"qaeks girl lies in bed, dreaming about numbers. Digital art.\",\n",
    "            \"qaeks girl sings into a microphone on stage, closeup.\"\n",
    "        ]\n",
    "}"
   ]
  },
  {
   "cell_type": "code",
   "execution_count": null,
   "metadata": {},
   "outputs": [],
   "source": [
    "# run training\n",
    "sdexp.run_exp(spec)"
   ]
  },
  {
   "cell_type": "code",
   "execution_count": null,
   "metadata": {},
   "outputs": [],
   "source": [
    "for iters in spec[\"n_iters\"]:\n",
    "    sdexp.eval_model(spec, iters, n_examples=10)\n",
    "    input() #pause for scoring"
   ]
  },
  {
   "attachments": {},
   "cell_type": "markdown",
   "metadata": {},
   "source": [
    "### Learning rate"
   ]
  },
  {
   "cell_type": "code",
   "execution_count": null,
   "metadata": {},
   "outputs": [],
   "source": [
    "spec_base = {\n",
    "    \"exp\":None,\n",
    "    \"entities\":[\n",
    "        {\n",
    "            \"finetune_path\":os.path.join(ROOT_DIR,\"finetune_sets/entitygirl\"),\n",
    "            \"class_prompt\":\"a cell phone photo of a girl\",\n",
    "            \"finetune_prompt\":\"a cell phone photo of qaeks girl\",\n",
    "            \"n_class_img\":200\n",
    "        }\n",
    "    ],\n",
    "    \"lr\":None,\n",
    "    \"n_iters\":None,\n",
    "    \"dir_model\":None,\n",
    "    \"dir_parent_classimg\":os.path.join(ROOT_DIR,\"class_sets\"),\n",
    "    \"test_prompts\":\n",
    "        [\n",
    "            \"qaeks girl sits in a cornfield, smiling. Watercolor.\",\n",
    "            \"qaeks girl licks an ice cream cone on a bench. Pencil drawing.\",\n",
    "            \"qaeks girl hides in the corner, scared.\",\n",
    "            \"qaeks girl lies in bed, dreaming about numbers. Digital art.\",\n",
    "            \"qaeks girl sings into a microphone on stage, closeup.\"\n",
    "        ]\n",
    "}\n",
    "lst_spec = []\n",
    "for exp,lr,iters in [\n",
    "    (\"A1A\",1e-6,[1000,1500,2500]),\n",
    "    (\"A1B\",5e-7,[1500,3000,4000]),\n",
    "    (\"A1C\",4e-6,[200,400,800])\n",
    "]:\n",
    "    spec = spec_base.copy()\n",
    "    spec['exp'] = exp\n",
    "    spec['lr']=lr\n",
    "    spec['n_iters']=iters\n",
    "    spec['dir_model']=os.path.join(ROOT_DIR,f\"modelexp/{exp}\")\n",
    "    lst_spec.append(spec)"
   ]
  },
  {
   "cell_type": "code",
   "execution_count": null,
   "metadata": {},
   "outputs": [],
   "source": [
    "for spec in lst_spec:\n",
    "    sdexp.run_exp(spec, verbose=True)"
   ]
  },
  {
   "cell_type": "code",
   "execution_count": null,
   "metadata": {},
   "outputs": [],
   "source": [
    "for spec in lst_spec:\n",
    "    for iters in spec[\"n_iters\"]:\n",
    "        sdexp.eval_model(spec, iters, n_examples=10)\n",
    "        input()"
   ]
  },
  {
   "attachments": {},
   "cell_type": "markdown",
   "metadata": {},
   "source": [
    "# Multi-subject examples"
   ]
  },
  {
   "attachments": {},
   "cell_type": "markdown",
   "metadata": {},
   "source": [
    "## steps / learning rate makes a meaningful difference for multi-image training"
   ]
  },
  {
   "cell_type": "code",
   "execution_count": null,
   "metadata": {},
   "outputs": [],
   "source": [
    "spec = {\n",
    "    \"exp\":\"A7\",\n",
    "    \"entities\":[\n",
    "        {\n",
    "            \"finetune_path\":os.path.join(ROOT_DIR,\"finetune_sets/entitygirl\"),\n",
    "            \"class_prompt\":\"a cell phone photo of a girl\",\n",
    "            \"finetune_prompt\":\"a cell phone photo of qaeks girl\",\n",
    "            \"n_class_img\":200\n",
    "        },\n",
    "        {\n",
    "            \"finetune_path\":os.path.join(ROOT_DIR,\"finetune_sets/entityboy_large\"),\n",
    "            \"class_prompt\":\"a cell phone photo of a boy\",\n",
    "            \"finetune_prompt\":\"a cell phone photo of alskj boy\",\n",
    "            \"n_class_img\":200\n",
    "        }\n",
    "    ],\n",
    "    \"lr\":1e-6,\n",
    "    \"n_iters\":[1500, 2200, 3000, 4000],\n",
    "    \"dir_model\":os.path.join(ROOT_DIR,\"modelexp/A7\"),\n",
    "    \"dir_parent_classimg\":os.path.join(ROOT_DIR,\"class_sets\"),\n",
    "    \"test_prompts\":\n",
    "        [\n",
    "            \"qaeks girl sits in a cornfield, smiling. Watercolor.\",\n",
    "            \"qaeks girl licks an ice cream cone on a bench. Pencil drawing.\",\n",
    "            \"alskj boy sits in a cornfield, smiling. Watercolor.\",\n",
    "            \"alskj boy licks an ice cream cone on a bench. Pencil drawing.\",\n",
    "            \"qaeks girl hugs alskj boy in a desert. Oil painting.\",\n",
    "            \"alskj boy chases qaeks girl through a field of flowers. Watercolor.\"\n",
    "        ]\n",
    "}"
   ]
  },
  {
   "cell_type": "code",
   "execution_count": null,
   "metadata": {},
   "outputs": [],
   "source": [
    "sdexp.run_exp(spec)"
   ]
  },
  {
   "cell_type": "code",
   "execution_count": null,
   "metadata": {},
   "outputs": [],
   "source": [
    "for iters in spec[\"n_iters\"][1:2]:\n",
    "    sdexp.eval_model(spec, iters, n_examples=10)\n",
    "    input()"
   ]
  },
  {
   "attachments": {},
   "cell_type": "markdown",
   "metadata": {},
   "source": [
    "## Hyp: choice of subject makes a difference in the multi-image setting."
   ]
  },
  {
   "cell_type": "code",
   "execution_count": null,
   "metadata": {},
   "outputs": [],
   "source": [
    "spec_base = {\n",
    "    \"exp\":None,\n",
    "    \"entities\":[\n",
    "        {\n",
    "            \"finetune_path\":None,\n",
    "            \"class_prompt\":None,\n",
    "            \"finetune_prompt\":\"a cell phone photo of {entity_name}\",\n",
    "            \"n_class_img\":200\n",
    "        },\n",
    "        {\n",
    "            \"finetune_path\":os.path.join(ROOT_DIR,\"finetune_sets/astro_square_ablationB\"),\n",
    "            \"class_prompt\":\"a cell phone photo of a dog\",\n",
    "            \"finetune_prompt\":\"a cell phone photo of astrmsr dog\",\n",
    "            \"n_class_img\":200\n",
    "        }\n",
    "    ],\n",
    "    \"lr\":1e-6,\n",
    "    \"n_iters\":[4500, 5000],\n",
    "    \"dir_model\":None,\n",
    "    \"dir_parent_classimg\":os.path.join(ROOT_DIR,\"class_sets\"),\n",
    "    \"test_prompts\":\n",
    "        [\n",
    "            \"{entity_name} hugs astrmsr dog in a desert. Oil painting.\",\n",
    "            \"astrmsr dog chases {entity_name} through a field of flowers. Watercolor.\",\n",
    "            \"astrmsr dog sits in {entity_name} lap on a park bench. Pencil drawing.\"\n",
    "        ]\n",
    "}\n",
    "\n",
    "lst_spec = []\n",
    "for exp, entity_name, finetune_path, class_prompt in [\n",
    "    (\"A9A\", \"entityboyc boy\",\"finetune_sets/entityboy_ablationB\",\"a cell phone photo of a boy\"),\n",
    "    (\"A9B\", \"qaeks girl\",\"finetune_sets/entitygirl\",\"a cell phone photo of a girl\")\n",
    "]:\n",
    "    spec = copy.deepcopy(spec_base)\n",
    "    spec['entities'][0]['finetune_path'] = os.path.join(ROOT_DIR,finetune_path)\n",
    "    spec['entities'][0]['class_prompt'] = class_prompt\n",
    "    spec['entities'][0]['finetune_prompt'] = spec['entities'][0]['finetune_prompt'].format(entity_name=entity_name)\n",
    "    for prompt in spec['test_prompts']:\n",
    "        prompt = prompt.format(entity_name=entity_name)\n",
    "    spec['exp'] = exp\n",
    "    spec['dir_model'] = os.path.join(ROOT_DIR,f\"modelexp/{exp}\")\n",
    "    spec['test_prompts'] = [prompt.format(entity_name=entity_name) for prompt in spec['test_prompts']]\n",
    "    lst_spec.append(spec)"
   ]
  },
  {
   "cell_type": "code",
   "execution_count": null,
   "metadata": {},
   "outputs": [],
   "source": [
    "for spec in lst_spec[1:]:\n",
    "    # if not os.path.exists(spec['dir_model']):\n",
    "    sdexp.run_exp(spec)"
   ]
  },
  {
   "cell_type": "code",
   "execution_count": null,
   "metadata": {},
   "outputs": [],
   "source": [
    "for spec in lst_spec[1:]:\n",
    "    for iters in spec[\"n_iters\"][-1:]:\n",
    "        print(iters)\n",
    "        sdexp.eval_model(spec, iters, n_examples=10)\n",
    "        input()"
   ]
  }
 ],
 "metadata": {
  "kernelspec": {
   "display_name": "Python 3 (ipykernel)",
   "language": "python",
   "name": "python3"
  },
  "language_info": {
   "codemirror_mode": {
    "name": "ipython",
    "version": 3
   },
   "file_extension": ".py",
   "mimetype": "text/x-python",
   "name": "python",
   "nbconvert_exporter": "python",
   "pygments_lexer": "ipython3",
   "version": "3.8.10"
  },
  "orig_nbformat": 4,
  "vscode": {
   "interpreter": {
    "hash": "31f2aee4e71d21fbe5cf8b01ff0e069b9275f58929596ceb00d14d90e3e16cd6"
   }
  }
 },
 "nbformat": 4,
 "nbformat_minor": 2
}
